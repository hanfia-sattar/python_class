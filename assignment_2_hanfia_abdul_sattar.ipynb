{
 "cells": [
  {
   "cell_type": "code",
   "execution_count": null,
   "id": "e6bdb2c3",
   "metadata": {},
   "outputs": [],
   "source": [
    "#Task1 Assignment 1: String Concatenation and Formatting**\n"
   ]
  },
  {
   "cell_type": "code",
   "execution_count": 5,
   "id": "24d02501",
   "metadata": {},
   "outputs": [
    {
     "name": "stdout",
     "output_type": "stream",
     "text": [
      "My name is Hanfia.I am 30 years old and I live in United Arab Emirates.\n"
     ]
    }
   ],
   "source": [
    "\n",
    "fname=\"Hanfia\"\n",
    "age=\"30\"\n",
    "country=\"United Arab Emirates\"\n",
    "formatted_String=\"My name is \" + fname + \".I am \" + age + \" years old and I live in \"+country+ \".\"\n",
    "print(formatted_String)"
   ]
  },
  {
   "cell_type": "code",
   "execution_count": null,
   "id": "75b669a0",
   "metadata": {},
   "outputs": [],
   "source": [
    "#**Assignment 2: String Formatting using `.format()`\n",
    "\n"
   ]
  },
  {
   "cell_type": "code",
   "execution_count": 4,
   "id": "8032ad23",
   "metadata": {},
   "outputs": [
    {
     "name": "stdout",
     "output_type": "stream",
     "text": [
      "I bought 20 phone at 100 each ,for total of $2000 \n"
     ]
    }
   ],
   "source": [
    "item= \"phone\"\n",
    "quantity = 20\n",
    "price = 100\n",
    "total_price = price * quantity\n",
    "formatted_String= \"I bought {} {} at {} each ,for total of ${} \".format(quantity,item,price,total_price)\n",
    "print(formatted_String)"
   ]
  },
  {
   "cell_type": "code",
   "execution_count": 15,
   "id": "a9ae97d0",
   "metadata": {},
   "outputs": [],
   "source": [
    "\n",
    "#**Assignment 3: String Interpolation using `f''`"
   ]
  },
  {
   "cell_type": "code",
   "execution_count": 3,
   "id": "1f1af3c1",
   "metadata": {},
   "outputs": [
    {
     "name": "stdout",
     "output_type": "stream",
     "text": [
      "The temperature in Karachi is 40°C.\n"
     ]
    }
   ],
   "source": [
    "city=\"Karachi\"\n",
    "temperature=\"40\"\n",
    "formatted_String=f\"The temperature in {city} is {temperature}°C.\"\n",
    "print(formatted_String)"
   ]
  },
  {
   "cell_type": "code",
   "execution_count": 20,
   "id": "c28da057",
   "metadata": {},
   "outputs": [],
   "source": [
    "#**Assignment 4: String Formatting using `%()`\n"
   ]
  },
  {
   "cell_type": "code",
   "execution_count": 2,
   "id": "069e05de",
   "metadata": {},
   "outputs": [
    {
     "name": "stdout",
     "output_type": "stream",
     "text": [
      "My name is Hanfia Abdul Sattar. I am 28 years old.\n"
     ]
    }
   ],
   "source": [
    "first_name=\"Hanfia\"\n",
    "last_name=\"Abdul Sattar\"\n",
    "birth_year=1995\n",
    "current_year=2023\n",
    "age = current_year-birth_year\n",
    "\n",
    "formatted_string = \"My name is %(first_name)s %(last_name)s. I am %(age)d years old.\" %{\"first_name\": first_name, \"last_name\": last_name, \"age\": age}\n",
    "\n",
    "print(formatted_string)\n"
   ]
  },
  {
   "cell_type": "code",
   "execution_count": 12,
   "id": "9b093cc2",
   "metadata": {},
   "outputs": [],
   "source": [
    "#**Assignment 5: Combining Formatting Methods**"
   ]
  },
  {
   "cell_type": "code",
   "execution_count": 52,
   "id": "2409c088",
   "metadata": {},
   "outputs": [
    {
     "name": "stdout",
     "output_type": "stream",
     "text": [
      "Product name is laptop Orignal Price is 150000 Discounted price is 12000 Discounted price in percentage 8.0%\n"
     ]
    }
   ],
   "source": [
    "product=\"laptop\"\n",
    "discount = 12000\n",
    "original_price =150000\n",
    "discounted_percentage= 100 * (discount / original_price)\n",
    "discount_data=\"Product name is \"+str(product)+\\\n",
    "\" Orignal Price is \"+str(original_price) +\\\n",
    "\" Discounted price is \"+str(discount)+ \\\n",
    "\" Discounted price in percentage \"+ str(discounted_percentage)+\"%\"\n",
    "print (discount_data)\n",
    "\n"
   ]
  },
  {
   "cell_type": "code",
   "execution_count": null,
   "id": "3e2ef693",
   "metadata": {},
   "outputs": [],
   "source": []
  }
 ],
 "metadata": {
  "kernelspec": {
   "display_name": "Python 3 (ipykernel)",
   "language": "python",
   "name": "python3"
  },
  "language_info": {
   "codemirror_mode": {
    "name": "ipython",
    "version": 3
   },
   "file_extension": ".py",
   "mimetype": "text/x-python",
   "name": "python",
   "nbconvert_exporter": "python",
   "pygments_lexer": "ipython3",
   "version": "3.11.3"
  }
 },
 "nbformat": 4,
 "nbformat_minor": 5
}
