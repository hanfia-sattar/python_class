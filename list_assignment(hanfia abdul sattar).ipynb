{
 "cells": [
  {
   "cell_type": "markdown",
   "id": "0f5dede5",
   "metadata": {},
   "source": [
    "### Question 1: Basic List Operations\n"
   ]
  },
  {
   "cell_type": "markdown",
   "id": "05da1183",
   "metadata": {},
   "source": [
    "<!--  a) Create a list named `fruits` containing the following items: \"apple\", \"banana\", \"orange\", \"grape\", \"kiwi\". --> -->\n"
   ]
  },
  {
   "cell_type": "code",
   "execution_count": 73,
   "id": "29f34ada",
   "metadata": {},
   "outputs": [
    {
     "name": "stdout",
     "output_type": "stream",
     "text": [
      "['apple', 'banana', 'orange', 'grape', 'kiwi']\n"
     ]
    }
   ],
   "source": [
    "fruits=[\"apple\",\"banana\",\"orange\",\"grape\",\"kiwi\"]\n",
    "print(fruits)"
   ]
  },
  {
   "cell_type": "markdown",
   "id": "ce9c0ab4",
   "metadata": {},
   "source": [
    "<!-- b) Add \"pear\" to the end of the list. -->"
   ]
  },
  {
   "cell_type": "code",
   "execution_count": 74,
   "id": "6406d805",
   "metadata": {},
   "outputs": [
    {
     "data": {
      "text/plain": [
       "['apple', 'banana', 'orange', 'grape', 'kiwi', 'pear']"
      ]
     },
     "execution_count": 74,
     "metadata": {},
     "output_type": "execute_result"
    }
   ],
   "source": [
    "fruits.append(\"pear\")\n",
    "fruits"
   ]
  },
  {
   "cell_type": "markdown",
   "id": "edf3efda",
   "metadata": {},
   "source": [
    "<!-- c) Insert \"mango\" at the second position in the list.. --> -->"
   ]
  },
  {
   "cell_type": "code",
   "execution_count": 75,
   "id": "1a2b2357",
   "metadata": {},
   "outputs": [
    {
     "data": {
      "text/plain": [
       "['apple', 'banana', 'mango', 'orange', 'grape', 'kiwi', 'pear']"
      ]
     },
     "execution_count": 75,
     "metadata": {},
     "output_type": "execute_result"
    }
   ],
   "source": [
    "fruits.insert(2,\"mango\")\n",
    "fruits"
   ]
  },
  {
   "cell_type": "markdown",
   "id": "8990e66d",
   "metadata": {},
   "source": [
    "<!-- d) Remove \"orange\" from the list. -->"
   ]
  },
  {
   "cell_type": "code",
   "execution_count": 76,
   "id": "0aa44ef5",
   "metadata": {},
   "outputs": [
    {
     "data": {
      "text/plain": [
       "['apple', 'banana', 'mango', 'grape', 'kiwi', 'pear']"
      ]
     },
     "execution_count": 76,
     "metadata": {},
     "output_type": "execute_result"
    }
   ],
   "source": [
    "fruits.remove(\"orange\")\n",
    "fruits"
   ]
  },
  {
   "cell_type": "markdown",
   "id": "80f3a83f",
   "metadata": {},
   "source": [
    "### Question 2: Slicing and Indexing"
   ]
  },
  {
   "cell_type": "markdown",
   "id": "42b65fef",
   "metadata": {},
   "source": [
    "\n",
    "<!--  a) Create a list named `numbers` containing the integers from 0 to 9. -->\n"
   ]
  },
  {
   "cell_type": "code",
   "execution_count": 77,
   "id": "2e3d5536",
   "metadata": {},
   "outputs": [
    {
     "data": {
      "text/plain": [
       "[0, 1, 2, 3, 4, 5, 6, 7, 8, 9]"
      ]
     },
     "execution_count": 77,
     "metadata": {},
     "output_type": "execute_result"
    }
   ],
   "source": [
    "numbers=list(range(0,10))\n",
    "numbers"
   ]
  },
  {
   "cell_type": "markdown",
   "id": "ff8d2de1",
   "metadata": {},
   "source": [
    "<!--  b) Print the element at index 3.-->\n"
   ]
  },
  {
   "cell_type": "code",
   "execution_count": 78,
   "id": "baf0d9a4",
   "metadata": {},
   "outputs": [
    {
     "name": "stdout",
     "output_type": "stream",
     "text": [
      "3\n"
     ]
    }
   ],
   "source": [
    "print(numbers[3])\n",
    "\n"
   ]
  },
  {
   "cell_type": "markdown",
   "id": "05f58fd4",
   "metadata": {},
   "source": [
    "<!-- c) Print a sublist containing the elements from index 2 to 6 (inclusive). -->"
   ]
  },
  {
   "cell_type": "code",
   "execution_count": 79,
   "id": "93c74f8e",
   "metadata": {},
   "outputs": [
    {
     "name": "stdout",
     "output_type": "stream",
     "text": [
      "[2, 3, 4, 5, 6]\n"
     ]
    }
   ],
   "source": [
    "sublist=numbers[2:7]\n",
    "print(sublist)"
   ]
  },
  {
   "cell_type": "markdown",
   "id": "be892c13",
   "metadata": {},
   "source": [
    "<!--  d) Print the last three elements using negative indexing -->"
   ]
  },
  {
   "cell_type": "code",
   "execution_count": 80,
   "id": "20e4ef31",
   "metadata": {},
   "outputs": [
    {
     "name": "stdout",
     "output_type": "stream",
     "text": [
      "[7, 8, 9]\n"
     ]
    }
   ],
   "source": [
    "print(numbers[-3::])"
   ]
  },
  {
   "cell_type": "markdown",
   "id": "5400efd2",
   "metadata": {},
   "source": [
    "### Question 3: List Comprehension\n"
   ]
  },
  {
   "cell_type": "markdown",
   "id": "65544a9e",
   "metadata": {},
   "source": [
    "\n",
    "<!--  a) Create a list named `squares` using a list comprehension that contains the squares of numbers from 1 to 10. -->\n"
   ]
  },
  {
   "cell_type": "code",
   "execution_count": 95,
   "id": "b1db3f97",
   "metadata": {},
   "outputs": [
    {
     "name": "stdout",
     "output_type": "stream",
     "text": [
      "[1, 4, 9, 16, 25, 36, 49, 64, 81, 100]\n"
     ]
    }
   ],
   "source": [
    "squares= list(range(1,11))\n",
    "squares=[x**2 for x in squares]\n",
    "print(squares)\n",
    "#new_list"
   ]
  },
  {
   "cell_type": "markdown",
   "id": "aa485083",
   "metadata": {},
   "source": [
    "<!-- \n",
    "b) Create a new list named `even_squares` using a list comprehension that contains the squares of even numbers from the `squares` list.#  -->\n"
   ]
  },
  {
   "cell_type": "code",
   "execution_count": 118,
   "id": "69f3f87d",
   "metadata": {},
   "outputs": [
    {
     "name": "stdout",
     "output_type": "stream",
     "text": [
      "[4, 16, 36, 64, 100]\n"
     ]
    }
   ],
   "source": [
    "\n",
    "even_squares=[j for j in squares if j % 2 ==0]\n",
    "print(even_squares)"
   ]
  },
  {
   "cell_type": "markdown",
   "id": "ffe1d227",
   "metadata": {},
   "source": [
    "### Question 4: List Manipulation\n"
   ]
  },
  {
   "cell_type": "markdown",
   "id": "9b6fe565",
   "metadata": {},
   "source": [
    "<!--  \n",
    "a) Create a list named `colors` containing the following items: \"red\", \"green\", \"blue\", \"yellow\", \"purple\".-->\n",
    "\n"
   ]
  },
  {
   "cell_type": "markdown",
   "id": "cee09283",
   "metadata": {},
   "source": [
    "\n",
    "<!-- a) Create a list named `colors` containing the following items: \"red\", \"green\", \"blue\", \"yellow\", \"purple\" -->\n"
   ]
  },
  {
   "cell_type": "code",
   "execution_count": 114,
   "id": "6f2f733e",
   "metadata": {},
   "outputs": [
    {
     "data": {
      "text/plain": [
       "['red', 'green', 'blue', 'yellow', 'purple']"
      ]
     },
     "execution_count": 114,
     "metadata": {},
     "output_type": "execute_result"
    }
   ],
   "source": [
    "colors=[\"red\",\"green\",\"blue\",\"yellow\",\"purple\"]\n",
    "colors"
   ]
  },
  {
   "cell_type": "markdown",
   "id": "04687d41",
   "metadata": {},
   "source": [
    "<!--b) Swap the first and last elements of the list.  -->"
   ]
  },
  {
   "cell_type": "code",
   "execution_count": null,
   "id": "ebca6846",
   "metadata": {},
   "outputs": [],
   "source": [
    "colors[0],colors[4]=colors[4],colors[0]\n",
    "print(colors)"
   ]
  },
  {
   "cell_type": "markdown",
   "id": "753270be",
   "metadata": {},
   "source": [
    "<!-- c) Reverse the order of the list. -->"
   ]
  },
  {
   "cell_type": "code",
   "execution_count": null,
   "id": "66c7a9b1",
   "metadata": {},
   "outputs": [],
   "source": [
    "colors.reverse()\n",
    "colors"
   ]
  },
  {
   "cell_type": "markdown",
   "id": "8843df95",
   "metadata": {},
   "source": [
    "<!-- \n",
    "\n",
    "d) Remove the second and third elements from the list.\n",
    " -->"
   ]
  },
  {
   "cell_type": "code",
   "execution_count": null,
   "id": "f1c8c3e4",
   "metadata": {},
   "outputs": [],
   "source": [
    "\n",
    "del colors[1:2]\n",
    "colors"
   ]
  },
  {
   "cell_type": "markdown",
   "id": "32623173",
   "metadata": {},
   "source": [
    "### Question 5: Advanced Slicing\n",
    "\n"
   ]
  },
  {
   "cell_type": "markdown",
   "id": "e6fecc47",
   "metadata": {},
   "source": [
    "\n",
    "<!--  a) Create a list named `letters` containing the letters from 'a' to 'j'. --> -->\n"
   ]
  },
  {
   "cell_type": "code",
   "execution_count": null,
   "id": "728be362",
   "metadata": {},
   "outputs": [],
   "source": [
    "import string\n",
    "letters=list(string.ascii_lowercase[0:10])\n",
    "letters"
   ]
  },
  {
   "cell_type": "markdown",
   "id": "09f0779d",
   "metadata": {},
   "source": [
    "\n",
    "<!-- b) Using slicing, create a new list `first_half` containing the first half of the `letters` list. -->\n"
   ]
  },
  {
   "cell_type": "markdown",
   "id": "ba431fde",
   "metadata": {},
   "source": [
    "\n",
    "<!-- b) Using slicing, create a new list `first_half` containing the first half of the `letters` list. -->\n"
   ]
  },
  {
   "cell_type": "code",
   "execution_count": null,
   "id": "1b217a9b",
   "metadata": {},
   "outputs": [],
   "source": [
    "count_element=len(letters)\n",
    "half=count_element/2\n",
    "\n",
    "first_half=letters[0:5]\n",
    "first_half"
   ]
  },
  {
   "cell_type": "markdown",
   "id": "5371cce7",
   "metadata": {},
   "source": [
    "<!-- \n",
    "c) Using slicing, create a new list `last_three` containing the last three elements of the `letters` list. -->"
   ]
  },
  {
   "cell_type": "markdown",
   "id": "cc269f0d",
   "metadata": {},
   "source": [
    "\n",
    "<!--  c) Using slicing, create a new list `last_three` containing the last three elements of the `letters` list. -->\n",
    "\n"
   ]
  },
  {
   "cell_type": "code",
   "execution_count": null,
   "id": "a3338212",
   "metadata": {},
   "outputs": [],
   "source": [
    "last_three=letters[-3::]\n",
    "last_three"
   ]
  },
  {
   "cell_type": "markdown",
   "id": "b81da22c",
   "metadata": {},
   "source": [
    "### Question 6: Nested Lists\n",
    "\n",
    "\n",
    "\n"
   ]
  },
  {
   "cell_type": "markdown",
   "id": "471e643a",
   "metadata": {},
   "source": [
    "<!-- # a) Create a nested list named `matrix` with the following rows:\n",
    "   - [1, 2, 3]\n",
    "   - [4, 5, 6]\n",
    "  - [7, 8, 9] -->"
   ]
  },
  {
   "cell_type": "code",
   "execution_count": 132,
   "id": "31bcf061",
   "metadata": {},
   "outputs": [
    {
     "name": "stdout",
     "output_type": "stream",
     "text": [
      "[1, 2, 3]\n",
      "[4, 5, 6]\n",
      "[7, 8, 9]\n"
     ]
    }
   ],
   "source": [
    "\n",
    "matrix = [[1,2,3],[4,5,6],[7,8,9]]\n",
    "for i in matrix:\n",
    "    print(i)"
   ]
  },
  {
   "cell_type": "markdown",
   "id": "a393c9ee",
   "metadata": {},
   "source": [
    "<!-- b) Print the element in the second row and third column. -->"
   ]
  },
  {
   "cell_type": "code",
   "execution_count": 136,
   "id": "9d15da7d",
   "metadata": {},
   "outputs": [
    {
     "name": "stdout",
     "output_type": "stream",
     "text": [
      "6\n"
     ]
    }
   ],
   "source": [
    "\n",
    "print(matrix[1][2])"
   ]
  },
  {
   "cell_type": "markdown",
   "id": "fac2a19d",
   "metadata": {},
   "source": [
    "<!-- c) Use nested indexing to change the value at the second row and first column to 0. -->"
   ]
  },
  {
   "cell_type": "code",
   "execution_count": 138,
   "id": "2c8d320c",
   "metadata": {},
   "outputs": [
    {
     "name": "stdout",
     "output_type": "stream",
     "text": [
      "[1, 2, 3]\n",
      "[0, 5, 6]\n",
      "[7, 8, 9]\n"
     ]
    }
   ],
   "source": [
    "matrix[1][0]=0\n",
    "for x in matrix:\n",
    "    print(x)"
   ]
  },
  {
   "cell_type": "code",
   "execution_count": null,
   "id": "a1f3932f",
   "metadata": {},
   "outputs": [],
   "source": []
  }
 ],
 "metadata": {
  "kernelspec": {
   "display_name": "Python 3 (ipykernel)",
   "language": "python",
   "name": "python3"
  },
  "language_info": {
   "codemirror_mode": {
    "name": "ipython",
    "version": 3
   },
   "file_extension": ".py",
   "mimetype": "text/x-python",
   "name": "python",
   "nbconvert_exporter": "python",
   "pygments_lexer": "ipython3",
   "version": "3.11.3"
  }
 },
 "nbformat": 4,
 "nbformat_minor": 5
}
